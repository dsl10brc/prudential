{
 "cells": [
  {
   "cell_type": "code",
   "execution_count": 31,
   "metadata": {
    "collapsed": false
   },
   "outputs": [],
   "source": [
    "import pandas as pd \n",
    "import numpy as np \n",
    "import xgboost as xgb\n",
    "from scipy.optimize import fmin_powell\n",
    "from ml_metrics import quadratic_weighted_kappa\n",
    "\n",
    "def eval_wrapper(yhat, y):  \n",
    "    y = np.array(y)\n",
    "    y = y.astype(int)\n",
    "    yhat = np.array(yhat)\n",
    "    yhat = np.clip(np.round(yhat), np.min(y), np.max(y)).astype(int)   \n",
    "    return quadratic_weighted_kappa(yhat, y)\n",
    "    \n",
    "def get_params():\n",
    "    \n",
    "    params = {}\n",
    "    params[\"objective\"] = \"reg:linear\"     \n",
    "    params[\"eta\"] = 0.05\n",
    "    params[\"min_child_weight\"] = 360\n",
    "    params[\"subsample\"] = 0.85\n",
    "    params[\"colsample_bytree\"] = 0.3\n",
    "    params[\"silent\"] = 1\n",
    "    params[\"max_depth\"] = 7\n",
    "    plst = list(params.items())\n",
    "\n",
    "    return plst\n",
    "    \n",
    "def score_offset(data, bin_offset, sv, scorer=eval_wrapper):\n",
    "    # data has the format of pred=0, offset_pred=1, labels=2 in the first dim\n",
    "    data[1, data[0].astype(int)==sv] = data[0, data[0].astype(int)==sv] + bin_offset\n",
    "    score = scorer(data[1], data[2])\n",
    "    return score\n",
    "    \n",
    "def apply_offsets(data, offsets):\n",
    "    for j in range(num_classes):\n",
    "        data[1, data[0].astype(int)==j] = data[0, data[0].astype(int)==j] + offsets[j]\n",
    "    return data"
   ]
  },
  {
   "cell_type": "code",
   "execution_count": 32,
   "metadata": {
    "collapsed": false
   },
   "outputs": [
    {
     "name": "stdout",
     "output_type": "stream",
     "text": [
      "Load the data using pandas\n"
     ]
    }
   ],
   "source": [
    "# global variables\n",
    "columns_to_drop = ['Id', 'Response'] #, 'Medical_History_10','Medical_History_24']\n",
    "xgb_num_rounds = 720\n",
    "num_classes = 8\n",
    "missing_indicator = -1000\n",
    "\n",
    "\n",
    "print(\"Load the data using pandas\")\n",
    "train = pd.read_csv(\"train.csv\")\n",
    "test = pd.read_csv(\"test.csv\")\n",
    "\n",
    "# combine train and test\n",
    "all_data = train.append(test)\n",
    "\n"
   ]
  },
  {
   "cell_type": "code",
   "execution_count": 33,
   "metadata": {
    "collapsed": false
   },
   "outputs": [],
   "source": [
    "# Found at https://www.kaggle.com/marcellonegro/prudential-life-insurance-assessment/xgb-offset0501/run/137585/code\n",
    "# create any new variables    \n",
    "all_data['Product_Info_2_char'] = all_data.Product_Info_2.str[0]\n",
    "all_data['Product_Info_2_num'] = all_data.Product_Info_2.str[1]\n",
    "\n",
    "# factorize categorical variables\n",
    "all_data['Product_Info_2'] = pd.factorize(all_data['Product_Info_2'])[0]\n",
    "all_data['Product_Info_2_char'] = pd.factorize(all_data['Product_Info_2_char'])[0]\n",
    "all_data['Product_Info_2_num'] = pd.factorize(all_data['Product_Info_2_num'])[0]\n"
   ]
  },
  {
   "cell_type": "code",
   "execution_count": 34,
   "metadata": {
    "collapsed": true
   },
   "outputs": [],
   "source": [
    "all_data['BMI_Age'] = all_data['BMI'] * all_data['Ins_Age']\n",
    "\n",
    "med_keyword_columns = all_data.columns[all_data.columns.str.startswith('Medical_Keyword_')]\n",
    "all_data['Med_Keywords_Count'] = all_data[med_keyword_columns].sum(axis=1)\n"
   ]
  },
  {
   "cell_type": "code",
   "execution_count": 35,
   "metadata": {
    "collapsed": false
   },
   "outputs": [],
   "source": [
    "qbmic = 0.8\n",
    "qbmic2 = 0.9\n",
    "all_data['custom_var_1'] = (all_data['Medical_History_15'] < 10.0).astype(int)\n",
    "all_data['custom_var_3'] = (all_data['Product_Info_4'] < 0.075).astype(int)\n",
    "all_data['custom_var_4'] = (all_data['Product_Info_4'] == 1).astype(int)\n",
    "all_data['custom_var_6'] = ((all_data['BMI'] + 1.0)**2.0)\n",
    "all_data['custom_var_7'] = (all_data['BMI'])**0.8\n",
    "all_data['custom_var_8'] = (all_data['Ins_Age'])**8.5\n",
    "all_data['custom_var_9'] = (all_data['BMI']*all_data['Ins_Age'])**2.5\n",
    "BMI_cutoff = (all_data['BMI']).quantile(qbmic)\n",
    "all_data['custom_var_10'] = (all_data['BMI'] > BMI_cutoff).astype(int)\n",
    "all_data['custom_var_11'] = (all_data['BMI']*all_data['Product_Info_4'])**0.9\n",
    "ageBMI_cutoff = (all_data['Ins_Age']*all_data['BMI']).quantile(qbmic2)\n",
    "all_data['custom_var_12'] = ((all_data['Ins_Age']*all_data['BMI']) > ageBMI_cutoff).astype(int)\n",
    "all_data['custom_var_13'] = (all_data['BMI']*all_data['Medical_Keyword_3'] + 0.5)**3.0"
   ]
  },
  {
   "cell_type": "code",
   "execution_count": 36,
   "metadata": {
    "collapsed": false
   },
   "outputs": [
    {
     "name": "stdout",
     "output_type": "stream",
     "text": [
      "Eliminate missing values\n",
      "[('colsample_bytree', 0.3), ('silent', 1), ('min_child_weight', 360), ('subsample', 0.85), ('eta', 0.05), ('objective', 'reg:linear'), ('max_depth', 7), ('lambda', 1)]\n",
      "('Train score is:', 0.6541797475748394)\n",
      "('Offset Train score is:', 0.7050259638340629)\n"
     ]
    }
   ],
   "source": [
    "print('Eliminate missing values')    \n",
    "all_data.fillna(missing_indicator, inplace=True)\n",
    "\n",
    "# fix the dtype on the label column\n",
    "all_data['Response'] = all_data['Response'].astype(int)\n",
    "\n",
    "# split train and test\n",
    "train = all_data[all_data['Response']>0].copy()\n",
    "test = all_data[all_data['Response']<1].copy()\n",
    "\n",
    "# convert data to xgb data structure\n",
    "xgtrain = xgb.DMatrix(train.drop(columns_to_drop, axis=1), train['Response'].values, \n",
    "                        missing=missing_indicator)\n",
    "xgtest = xgb.DMatrix(test.drop(columns_to_drop, axis=1), label=test['Response'].values, \n",
    "                        missing=missing_indicator)    \n",
    "\n",
    "# get the parameters for xgboost\n",
    "plst = get_params()\n",
    "print(plst)      \n",
    "\n",
    "# train model\n",
    "model = xgb.train(plst, xgtrain, xgb_num_rounds) \n",
    "\n",
    "# get preds\n",
    "train_preds = model.predict(xgtrain, ntree_limit=model.best_iteration)\n",
    "print('Train score is:', eval_wrapper(train_preds, train['Response'])) \n",
    "test_preds = model.predict(xgtest, ntree_limit=model.best_iteration)\n",
    "\n",
    "# train offsets \n",
    "offsets = np.array([0.1, -1, -2, -1, -0.8, 0.02, 0.8, 1])\n",
    "offset_preds = np.vstack((train_preds, train_preds, train['Response'].values))\n",
    "offset_preds = apply_offsets(offset_preds, offsets)\n",
    "opt_order = [6,4,5,3]\n",
    "for j in opt_order:\n",
    "    train_offset = lambda x: -score_offset(offset_preds, x, j) * 100\n",
    "    offsets[j] = fmin_powell(train_offset, offsets[j], disp=False)\n",
    "\n",
    "print('Offset Train score is:', eval_wrapper(offset_preds[1], train['Response'])) \n",
    "\n",
    "# apply offsets to test\n",
    "data = np.vstack((test_preds, test_preds, test['Response'].values))\n",
    "data = apply_offsets(data, offsets)\n",
    "\n",
    "final_test_preds = np.round(np.clip(data[1], 1, 8)).astype(int)\n",
    "\n",
    "preds_out = pd.DataFrame({\"Id\": test['Id'].values, \"Response\": final_test_preds})\n",
    "preds_out = preds_out.set_index('Id')\n",
    "preds_out.to_csv('xgb_offset_submission2.csv')"
   ]
  },
  {
   "cell_type": "code",
   "execution_count": null,
   "metadata": {
    "collapsed": true
   },
   "outputs": [],
   "source": []
  }
 ],
 "metadata": {
  "kernelspec": {
   "display_name": "Python 2",
   "language": "python",
   "name": "python2"
  },
  "language_info": {
   "codemirror_mode": {
    "name": "ipython",
    "version": 2
   },
   "file_extension": ".py",
   "mimetype": "text/x-python",
   "name": "python",
   "nbconvert_exporter": "python",
   "pygments_lexer": "ipython2",
   "version": "2.7.11"
  }
 },
 "nbformat": 4,
 "nbformat_minor": 0
}
