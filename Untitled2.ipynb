{
 "cells": [
  {
   "cell_type": "code",
   "execution_count": 9,
   "metadata": {
    "collapsed": true
   },
   "outputs": [],
   "source": [
    "import pandas as pd"
   ]
  },
  {
   "cell_type": "code",
   "execution_count": 10,
   "metadata": {
    "collapsed": true
   },
   "outputs": [],
   "source": [
    "train = pd.read_csv('train.csv')\n",
    "test = pd.read_csv('test.csv')"
   ]
  },
  {
   "cell_type": "code",
   "execution_count": 11,
   "metadata": {
    "collapsed": false,
    "scrolled": true
   },
   "outputs": [
    {
     "name": "stdout",
     "output_type": "stream",
     "text": [
      "<class 'pandas.core.frame.DataFrame'>\n",
      "Int64Index: 59381 entries, 0 to 59380\n",
      "Data columns (total 128 columns):\n",
      "Id                     59381 non-null int64\n",
      "Product_Info_1         59381 non-null int64\n",
      "Product_Info_2         59381 non-null object\n",
      "Product_Info_3         59381 non-null int64\n",
      "Product_Info_4         59381 non-null float64\n",
      "Product_Info_5         59381 non-null int64\n",
      "Product_Info_6         59381 non-null int64\n",
      "Product_Info_7         59381 non-null int64\n",
      "Ins_Age                59381 non-null float64\n",
      "Ht                     59381 non-null float64\n",
      "Wt                     59381 non-null float64\n",
      "BMI                    59381 non-null float64\n",
      "Employment_Info_1      59362 non-null float64\n",
      "Employment_Info_2      59381 non-null int64\n",
      "Employment_Info_3      59381 non-null int64\n",
      "Employment_Info_4      52602 non-null float64\n",
      "Employment_Info_5      59381 non-null int64\n",
      "Employment_Info_6      48527 non-null float64\n",
      "InsuredInfo_1          59381 non-null int64\n",
      "InsuredInfo_2          59381 non-null int64\n",
      "InsuredInfo_3          59381 non-null int64\n",
      "InsuredInfo_4          59381 non-null int64\n",
      "InsuredInfo_5          59381 non-null int64\n",
      "InsuredInfo_6          59381 non-null int64\n",
      "InsuredInfo_7          59381 non-null int64\n",
      "Insurance_History_1    59381 non-null int64\n",
      "Insurance_History_2    59381 non-null int64\n",
      "Insurance_History_3    59381 non-null int64\n",
      "Insurance_History_4    59381 non-null int64\n",
      "Insurance_History_5    33985 non-null float64\n",
      "Insurance_History_7    59381 non-null int64\n",
      "Insurance_History_8    59381 non-null int64\n",
      "Insurance_History_9    59381 non-null int64\n",
      "Family_Hist_1          59381 non-null int64\n",
      "Family_Hist_2          30725 non-null float64\n",
      "Family_Hist_3          25140 non-null float64\n",
      "Family_Hist_4          40197 non-null float64\n",
      "Family_Hist_5          17570 non-null float64\n",
      "Medical_History_1      50492 non-null float64\n",
      "Medical_History_2      59381 non-null int64\n",
      "Medical_History_3      59381 non-null int64\n",
      "Medical_History_4      59381 non-null int64\n",
      "Medical_History_5      59381 non-null int64\n",
      "Medical_History_6      59381 non-null int64\n",
      "Medical_History_7      59381 non-null int64\n",
      "Medical_History_8      59381 non-null int64\n",
      "Medical_History_9      59381 non-null int64\n",
      "Medical_History_10     557 non-null float64\n",
      "Medical_History_11     59381 non-null int64\n",
      "Medical_History_12     59381 non-null int64\n",
      "Medical_History_13     59381 non-null int64\n",
      "Medical_History_14     59381 non-null int64\n",
      "Medical_History_15     14785 non-null float64\n",
      "Medical_History_16     59381 non-null int64\n",
      "Medical_History_17     59381 non-null int64\n",
      "Medical_History_18     59381 non-null int64\n",
      "Medical_History_19     59381 non-null int64\n",
      "Medical_History_20     59381 non-null int64\n",
      "Medical_History_21     59381 non-null int64\n",
      "Medical_History_22     59381 non-null int64\n",
      "Medical_History_23     59381 non-null int64\n",
      "Medical_History_24     3801 non-null float64\n",
      "Medical_History_25     59381 non-null int64\n",
      "Medical_History_26     59381 non-null int64\n",
      "Medical_History_27     59381 non-null int64\n",
      "Medical_History_28     59381 non-null int64\n",
      "Medical_History_29     59381 non-null int64\n",
      "Medical_History_30     59381 non-null int64\n",
      "Medical_History_31     59381 non-null int64\n",
      "Medical_History_32     1107 non-null float64\n",
      "Medical_History_33     59381 non-null int64\n",
      "Medical_History_34     59381 non-null int64\n",
      "Medical_History_35     59381 non-null int64\n",
      "Medical_History_36     59381 non-null int64\n",
      "Medical_History_37     59381 non-null int64\n",
      "Medical_History_38     59381 non-null int64\n",
      "Medical_History_39     59381 non-null int64\n",
      "Medical_History_40     59381 non-null int64\n",
      "Medical_History_41     59381 non-null int64\n",
      "Medical_Keyword_1      59381 non-null int64\n",
      "Medical_Keyword_2      59381 non-null int64\n",
      "Medical_Keyword_3      59381 non-null int64\n",
      "Medical_Keyword_4      59381 non-null int64\n",
      "Medical_Keyword_5      59381 non-null int64\n",
      "Medical_Keyword_6      59381 non-null int64\n",
      "Medical_Keyword_7      59381 non-null int64\n",
      "Medical_Keyword_8      59381 non-null int64\n",
      "Medical_Keyword_9      59381 non-null int64\n",
      "Medical_Keyword_10     59381 non-null int64\n",
      "Medical_Keyword_11     59381 non-null int64\n",
      "Medical_Keyword_12     59381 non-null int64\n",
      "Medical_Keyword_13     59381 non-null int64\n",
      "Medical_Keyword_14     59381 non-null int64\n",
      "Medical_Keyword_15     59381 non-null int64\n",
      "Medical_Keyword_16     59381 non-null int64\n",
      "Medical_Keyword_17     59381 non-null int64\n",
      "Medical_Keyword_18     59381 non-null int64\n",
      "Medical_Keyword_19     59381 non-null int64\n",
      "Medical_Keyword_20     59381 non-null int64\n",
      "Medical_Keyword_21     59381 non-null int64\n",
      "Medical_Keyword_22     59381 non-null int64\n",
      "Medical_Keyword_23     59381 non-null int64\n",
      "Medical_Keyword_24     59381 non-null int64\n",
      "Medical_Keyword_25     59381 non-null int64\n",
      "Medical_Keyword_26     59381 non-null int64\n",
      "Medical_Keyword_27     59381 non-null int64\n",
      "Medical_Keyword_28     59381 non-null int64\n",
      "Medical_Keyword_29     59381 non-null int64\n",
      "Medical_Keyword_30     59381 non-null int64\n",
      "Medical_Keyword_31     59381 non-null int64\n",
      "Medical_Keyword_32     59381 non-null int64\n",
      "Medical_Keyword_33     59381 non-null int64\n",
      "Medical_Keyword_34     59381 non-null int64\n",
      "Medical_Keyword_35     59381 non-null int64\n",
      "Medical_Keyword_36     59381 non-null int64\n",
      "Medical_Keyword_37     59381 non-null int64\n",
      "Medical_Keyword_38     59381 non-null int64\n",
      "Medical_Keyword_39     59381 non-null int64\n",
      "Medical_Keyword_40     59381 non-null int64\n",
      "Medical_Keyword_41     59381 non-null int64\n",
      "Medical_Keyword_42     59381 non-null int64\n",
      "Medical_Keyword_43     59381 non-null int64\n",
      "Medical_Keyword_44     59381 non-null int64\n",
      "Medical_Keyword_45     59381 non-null int64\n",
      "Medical_Keyword_46     59381 non-null int64\n",
      "Medical_Keyword_47     59381 non-null int64\n",
      "Medical_Keyword_48     59381 non-null int64\n",
      "Response               59381 non-null int64\n",
      "dtypes: float64(18), int64(109), object(1)\n",
      "memory usage: 58.4+ MB\n"
     ]
    }
   ],
   "source": [
    "train.info(verbose = True, null_counts=True)"
   ]
  },
  {
   "cell_type": "code",
   "execution_count": 12,
   "metadata": {
    "collapsed": true
   },
   "outputs": [],
   "source": [
    "f = 'Response, Product_Info_4, Ins_Age, Ht, Wt, BMI, Employment_Info_1, Employment_Info_4, Employment_Info_6, Insurance_History_5, Family_Hist_2, Family_Hist_4'"
   ]
  },
  {
   "cell_type": "code",
   "execution_count": 13,
   "metadata": {
    "collapsed": false
   },
   "outputs": [
    {
     "data": {
      "text/plain": [
       "['Response',\n",
       " 'Product_Info_4',\n",
       " 'Ins_Age',\n",
       " 'Ht',\n",
       " 'Wt',\n",
       " 'BMI',\n",
       " 'Employment_Info_1',\n",
       " 'Employment_Info_4',\n",
       " 'Employment_Info_6',\n",
       " 'Insurance_History_5',\n",
       " 'Family_Hist_2',\n",
       " 'Family_Hist_4']"
      ]
     },
     "execution_count": 13,
     "metadata": {},
     "output_type": "execute_result"
    }
   ],
   "source": [
    "c = f.split(', ')\n",
    "c"
   ]
  },
  {
   "cell_type": "code",
   "execution_count": 14,
   "metadata": {
    "collapsed": false
   },
   "outputs": [
    {
     "data": {
      "text/plain": [
       "RFECV(cv=sklearn.cross_validation.StratifiedKFold(labels=[4 6 ..., 7 7], n_folds=2, shuffle=False, random_state=None),\n",
       "   estimator=LogisticRegression(C=1.0, class_weight=None, dual=False, fit_intercept=True,\n",
       "          intercept_scaling=1, max_iter=100, multi_class='multinomial',\n",
       "          n_jobs=1, penalty='l2', random_state=None, solver='lbfgs',\n",
       "          tol=0.0001, verbose=0, warm_start=False),\n",
       "   estimator_params=None, scoring='accuracy', step=1, verbose=0)"
      ]
     },
     "execution_count": 14,
     "metadata": {},
     "output_type": "execute_result"
    }
   ],
   "source": [
    "from sklearn.cross_validation import StratifiedKFold\n",
    "from sklearn import linear_model\n",
    "from sklearn.feature_selection import RFECV\n",
    "log_model1 = linear_model.LogisticRegression(solver='lbfgs',multi_class='multinomial')\n",
    "from sklearn.ensemble import RandomForestClassifier\n",
    "# log_model = RandomForestClassifier(n_estimators=10)\n",
    "X = train[c]\n",
    "X1 = X.dropna()\n",
    "X = pd.DataFrame(X1.drop(['Response'], axis=1))\n",
    "y = X1['Response']\n",
    "rfecv = RFECV(estimator=log_model1, step=1, cv=StratifiedKFold(y, 2), scoring='accuracy')\n",
    "rfecv.fit(X, y)"
   ]
  },
  {
   "cell_type": "code",
   "execution_count": 15,
   "metadata": {
    "collapsed": false
   },
   "outputs": [
    {
     "data": {
      "text/plain": [
       "array([1, 1, 1, 1, 1, 1, 3, 5, 6, 2, 4])"
      ]
     },
     "execution_count": 15,
     "metadata": {},
     "output_type": "execute_result"
    }
   ],
   "source": [
    "rfecv.ranking_"
   ]
  },
  {
   "cell_type": "code",
   "execution_count": null,
   "metadata": {
    "collapsed": false
   },
   "outputs": [],
   "source": [
    "import matplotlib.pyplot as plt\n",
    "plt.figure()\n",
    "plt.xlabel(\"Number of features selected\")\n",
    "plt.ylabel(\"Cross validation score (nb of correct classifications)\")\n",
    "plt.plot(range(1, len(rfecv.grid_scores_) + 1), rfecv.grid_scores_)\n",
    "plt.show()"
   ]
  },
  {
   "cell_type": "code",
   "execution_count": 154,
   "metadata": {
    "collapsed": false
   },
   "outputs": [],
   "source": [
    "med = []\n",
    "for i in range(1,49):\n",
    "    i = str(i)\n",
    "    med.append('Medical_Keyword_'+i)"
   ]
  },
  {
   "cell_type": "code",
   "execution_count": 17,
   "metadata": {
    "collapsed": true
   },
   "outputs": [],
   "source": [
    "f1 = 'Product_Info_4, Ins_Age, Ht, Wt, BMI, Employment_Info_1, Employment_Info_4, Employment_Info_6, Insurance_History_5, Family_Hist_2, Family_Hist_4'"
   ]
  },
  {
   "cell_type": "code",
   "execution_count": 19,
   "metadata": {
    "collapsed": false
   },
   "outputs": [
    {
     "data": {
      "text/plain": [
       "['Product_Info_4',\n",
       " 'Ins_Age',\n",
       " 'Ht',\n",
       " 'Wt',\n",
       " 'BMI',\n",
       " 'Employment_Info_1',\n",
       " 'Employment_Info_4',\n",
       " 'Employment_Info_6',\n",
       " 'Insurance_History_5',\n",
       " 'Family_Hist_2',\n",
       " 'Family_Hist_4']"
      ]
     },
     "execution_count": 19,
     "metadata": {},
     "output_type": "execute_result"
    }
   ],
   "source": [
    "c1 = f1.split(', ')\n",
    "c1"
   ]
  },
  {
   "cell_type": "code",
   "execution_count": 20,
   "metadata": {
    "collapsed": false
   },
   "outputs": [
    {
     "name": "stderr",
     "output_type": "stream",
     "text": [
      "/home/deepu/anaconda/lib/python2.7/site-packages/sklearn/utils/validation.py:515: DataConversionWarning: A column-vector y was passed when a 1d array was expected. Please change the shape of y to (n_samples, ), for example using ravel().\n",
      "  y = column_or_1d(y, warn=True)\n",
      "/home/deepu/anaconda/lib/python2.7/site-packages/sklearn/utils/validation.py:515: DataConversionWarning: A column-vector y was passed when a 1d array was expected. Please change the shape of y to (n_samples, ), for example using ravel().\n",
      "  y = column_or_1d(y, warn=True)\n",
      "/home/deepu/anaconda/lib/python2.7/site-packages/sklearn/utils/validation.py:515: DataConversionWarning: A column-vector y was passed when a 1d array was expected. Please change the shape of y to (n_samples, ), for example using ravel().\n",
      "  y = column_or_1d(y, warn=True)\n",
      "/home/deepu/anaconda/lib/python2.7/site-packages/sklearn/utils/validation.py:515: DataConversionWarning: A column-vector y was passed when a 1d array was expected. Please change the shape of y to (n_samples, ), for example using ravel().\n",
      "  y = column_or_1d(y, warn=True)\n",
      "/home/deepu/anaconda/lib/python2.7/site-packages/sklearn/utils/validation.py:515: DataConversionWarning: A column-vector y was passed when a 1d array was expected. Please change the shape of y to (n_samples, ), for example using ravel().\n",
      "  y = column_or_1d(y, warn=True)\n",
      "/home/deepu/anaconda/lib/python2.7/site-packages/sklearn/utils/validation.py:515: DataConversionWarning: A column-vector y was passed when a 1d array was expected. Please change the shape of y to (n_samples, ), for example using ravel().\n",
      "  y = column_or_1d(y, warn=True)\n",
      "/home/deepu/anaconda/lib/python2.7/site-packages/sklearn/utils/validation.py:515: DataConversionWarning: A column-vector y was passed when a 1d array was expected. Please change the shape of y to (n_samples, ), for example using ravel().\n",
      "  y = column_or_1d(y, warn=True)\n",
      "/home/deepu/anaconda/lib/python2.7/site-packages/sklearn/utils/validation.py:515: DataConversionWarning: A column-vector y was passed when a 1d array was expected. Please change the shape of y to (n_samples, ), for example using ravel().\n",
      "  y = column_or_1d(y, warn=True)\n",
      "/home/deepu/anaconda/lib/python2.7/site-packages/sklearn/utils/validation.py:515: DataConversionWarning: A column-vector y was passed when a 1d array was expected. Please change the shape of y to (n_samples, ), for example using ravel().\n",
      "  y = column_or_1d(y, warn=True)\n",
      "/home/deepu/anaconda/lib/python2.7/site-packages/sklearn/utils/validation.py:515: DataConversionWarning: A column-vector y was passed when a 1d array was expected. Please change the shape of y to (n_samples, ), for example using ravel().\n",
      "  y = column_or_1d(y, warn=True)\n",
      "/home/deepu/anaconda/lib/python2.7/site-packages/sklearn/utils/validation.py:515: DataConversionWarning: A column-vector y was passed when a 1d array was expected. Please change the shape of y to (n_samples, ), for example using ravel().\n",
      "  y = column_or_1d(y, warn=True)\n"
     ]
    }
   ],
   "source": [
    "scr = [[]]\n",
    "for f in c1:\n",
    "    log_model = linear_model.LogisticRegression(solver='lbfgs',multi_class='multinomial')\n",
    "    xz=pd.DataFrame([train[f],train['Response']]).T\n",
    "    xz = xz.dropna()\n",
    "    log_model.fit(pd.DataFrame(xz[f]),pd.DataFrame(xz['Response']))\n",
    "    scr.append([f,log_model.score(pd.DataFrame(xz[f]),pd.DataFrame(xz['Response']))])"
   ]
  },
  {
   "cell_type": "code",
   "execution_count": 21,
   "metadata": {
    "collapsed": false
   },
   "outputs": [
    {
     "data": {
      "text/plain": [
       "[[],\n",
       " ['Product_Info_4', 0.3282026237348647],\n",
       " ['Ins_Age', 0.33402940334450415],\n",
       " ['Ht', 0.32764689041949446],\n",
       " ['Wt', 0.38940065003957497],\n",
       " ['BMI', 0.40464121520351626],\n",
       " ['Employment_Info_1', 0.32813921363835452],\n",
       " ['Employment_Info_4', 0.33458803847762442],\n",
       " ['Employment_Info_6', 0.32614832979578379],\n",
       " ['Insurance_History_5', 0.31140208915698103],\n",
       " ['Family_Hist_2', 0.41090317331163545],\n",
       " ['Family_Hist_4', 0.38316292260616464]]"
      ]
     },
     "execution_count": 21,
     "metadata": {},
     "output_type": "execute_result"
    }
   ],
   "source": [
    "scr"
   ]
  },
  {
   "cell_type": "code",
   "execution_count": 22,
   "metadata": {
    "collapsed": true
   },
   "outputs": [],
   "source": [
    "from sklearn.ensemble import ExtraTreesClassifier\n",
    "forest = ExtraTreesClassifier(n_estimators=10,random_state=0)"
   ]
  },
  {
   "cell_type": "code",
   "execution_count": 23,
   "metadata": {
    "collapsed": false
   },
   "outputs": [
    {
     "name": "stdout",
     "output_type": "stream",
     "text": [
      "Feature ranking:\n",
      "1. feature 4 (0.171604)\n",
      "2. feature 3 (0.123148)\n",
      "3. feature 1 (0.088890)\n",
      "4. feature 5 (0.087864)\n",
      "5. feature 9 (0.085850)\n",
      "6. feature 8 (0.085810)\n",
      "7. feature 10 (0.085767)\n",
      "8. feature 2 (0.081779)\n",
      "9. feature 7 (0.080928)\n",
      "10. feature 0 (0.074710)\n",
      "11. feature 6 (0.033650)\n"
     ]
    }
   ],
   "source": [
    "import numpy as np\n",
    "forest.fit(X, y)\n",
    "importances = forest.feature_importances_\n",
    "std = np.std([tree.feature_importances_ for tree in forest.estimators_],\n",
    "             axis=0)\n",
    "indices = np.argsort(importances)[::-1]\n",
    "\n",
    "# Print the feature ranking\n",
    "print(\"Feature ranking:\")\n",
    "\n",
    "for f in range(X.shape[1]):\n",
    "    print(\"%d. feature %d (%f)\" % (f + 1, indices[f], importances[indices[f]]))"
   ]
  },
  {
   "cell_type": "code",
   "execution_count": 210,
   "metadata": {
    "collapsed": false
   },
   "outputs": [],
   "source": [
    "plt.figure()\n",
    "plt.title(\"Feature importances\")\n",
    "plt.bar(range(X.shape[1]), importances[indices],\n",
    "       color=\"r\", yerr=std[indices], align=\"center\")\n",
    "plt.xticks(range(X.shape[1]), indices)\n",
    "plt.xlim([-1, X.shape[1]])\n",
    "plt.show()"
   ]
  },
  {
   "cell_type": "code",
   "execution_count": null,
   "metadata": {
    "collapsed": true
   },
   "outputs": [],
   "source": []
  }
 ],
 "metadata": {
  "kernelspec": {
   "display_name": "Python 2",
   "language": "python",
   "name": "python2"
  },
  "language_info": {
   "codemirror_mode": {
    "name": "ipython",
    "version": 2
   },
   "file_extension": ".py",
   "mimetype": "text/x-python",
   "name": "python",
   "nbconvert_exporter": "python",
   "pygments_lexer": "ipython2",
   "version": "2.7.11"
  }
 },
 "nbformat": 4,
 "nbformat_minor": 0
}
